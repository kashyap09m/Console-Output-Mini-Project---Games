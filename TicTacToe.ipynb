{
 "cells": [
  {
   "cell_type": "code",
   "execution_count": 1,
   "id": "59820e5e-e79a-44c6-bbe3-a939c1064ce6",
   "metadata": {},
   "outputs": [
    {
     "name": "stdout",
     "output_type": "stream",
     "text": [
      "🎮 Welcome to Tic Tac Toe!\n",
      "📝 How to Play:\n",
      "1. You will see a board with numbers 1-9 representing positions.\n",
      "2. Each player takes turns to place their symbol (X or O).\n",
      "3. To make a move, enter the number of the position you want to mark.\n",
      "4. First to get 3 in a row (line/column/diagonal) wins!\n",
      "5. If all spots are filled and no winner — it's a draw.\n",
      "\n",
      "👉 Board Positions:\n",
      "\n",
      "\n",
      " 1 | 2 | 3\n",
      "---+---+---\n",
      " 4 | 5 | 6\n",
      "---+---+---\n",
      " 7 | 8 | 9\n",
      "\n",
      "\n",
      "\n",
      "\n",
      "   |   |  \n",
      "---+---+---\n",
      "   |   |  \n",
      "---+---+---\n",
      "   |   |  \n",
      "\n",
      "\n"
     ]
    },
    {
     "name": "stdin",
     "output_type": "stream",
     "text": [
      "Player X, enter position (1-9):  3\n"
     ]
    },
    {
     "name": "stdout",
     "output_type": "stream",
     "text": [
      "\n",
      "\n",
      "   |   | X\n",
      "---+---+---\n",
      "   |   |  \n",
      "---+---+---\n",
      "   |   |  \n",
      "\n",
      "\n"
     ]
    },
    {
     "name": "stdin",
     "output_type": "stream",
     "text": [
      "Player O, enter position (1-9):  6\n"
     ]
    },
    {
     "name": "stdout",
     "output_type": "stream",
     "text": [
      "\n",
      "\n",
      "   |   | X\n",
      "---+---+---\n",
      "   |   | O\n",
      "---+---+---\n",
      "   |   |  \n",
      "\n",
      "\n"
     ]
    },
    {
     "name": "stdin",
     "output_type": "stream",
     "text": [
      "Player X, enter position (1-9):  5\n"
     ]
    },
    {
     "name": "stdout",
     "output_type": "stream",
     "text": [
      "\n",
      "\n",
      "   |   | X\n",
      "---+---+---\n",
      "   | X | O\n",
      "---+---+---\n",
      "   |   |  \n",
      "\n",
      "\n"
     ]
    },
    {
     "name": "stdin",
     "output_type": "stream",
     "text": [
      "Player O, enter position (1-9):  5\n"
     ]
    },
    {
     "name": "stdout",
     "output_type": "stream",
     "text": [
      "⚠️ That spot is already taken. Try a different one.\n",
      "\n",
      "\n",
      "   |   | X\n",
      "---+---+---\n",
      "   | X | O\n",
      "---+---+---\n",
      "   |   |  \n",
      "\n",
      "\n"
     ]
    },
    {
     "name": "stdin",
     "output_type": "stream",
     "text": [
      "Player O, enter position (1-9):  8\n"
     ]
    },
    {
     "name": "stdout",
     "output_type": "stream",
     "text": [
      "\n",
      "\n",
      "   |   | X\n",
      "---+---+---\n",
      "   | X | O\n",
      "---+---+---\n",
      "   | O |  \n",
      "\n",
      "\n"
     ]
    },
    {
     "name": "stdin",
     "output_type": "stream",
     "text": [
      "Player X, enter position (1-9):  9\n"
     ]
    },
    {
     "name": "stdout",
     "output_type": "stream",
     "text": [
      "\n",
      "\n",
      "   |   | X\n",
      "---+---+---\n",
      "   | X | O\n",
      "---+---+---\n",
      "   | O | X\n",
      "\n",
      "\n"
     ]
    },
    {
     "name": "stdin",
     "output_type": "stream",
     "text": [
      "Player O, enter position (1-9):  7\n"
     ]
    },
    {
     "name": "stdout",
     "output_type": "stream",
     "text": [
      "\n",
      "\n",
      "   |   | X\n",
      "---+---+---\n",
      "   | X | O\n",
      "---+---+---\n",
      " O | O | X\n",
      "\n",
      "\n"
     ]
    },
    {
     "name": "stdin",
     "output_type": "stream",
     "text": [
      "Player X, enter position (1-9):  1\n"
     ]
    },
    {
     "name": "stdout",
     "output_type": "stream",
     "text": [
      "\n",
      "\n",
      " X |   | X\n",
      "---+---+---\n",
      "   | X | O\n",
      "---+---+---\n",
      " O | O | X\n",
      "\n",
      "\n",
      "🎉 Player X wins!\n"
     ]
    }
   ],
   "source": [
    "def print_board(board):\n",
    "    print(\"\\n\")\n",
    "    print(f\" {board[0]} | {board[1]} | {board[2]}\")\n",
    "    print(\"---+---+---\")\n",
    "    print(f\" {board[3]} | {board[4]} | {board[5]}\")\n",
    "    print(\"---+---+---\")\n",
    "    print(f\" {board[6]} | {board[7]} | {board[8]}\")\n",
    "    print(\"\\n\")\n",
    "\n",
    "def check_win(board, player):\n",
    "    win_positions = [\n",
    "        [0, 1, 2], [3, 4, 5], [6, 7, 8],  # Rows\n",
    "        [0, 3, 6], [1, 4, 7], [2, 5, 8],  # Columns\n",
    "        [0, 4, 8], [2, 4, 6]              # Diagonals\n",
    "    ]\n",
    "    for pos in win_positions:\n",
    "        if board[pos[0]] == board[pos[1]] == board[pos[2]] == player:\n",
    "            return True\n",
    "    return False\n",
    "\n",
    "def is_draw(board):\n",
    "    return all(cell != \" \" for cell in board)\n",
    "\n",
    "def tic_tac_toe():\n",
    "    board = [\" \"] * 9\n",
    "    current_player = \"X\"\n",
    "\n",
    "    print(\"🎮 Welcome to Tic Tac Toe!\")\n",
    "    print(\"📝 How to Play:\")\n",
    "    print(\"1. You will see a board with numbers 1-9 representing positions.\")\n",
    "    print(\"2. Each player takes turns to place their symbol (X or O).\")\n",
    "    print(\"3. To make a move, enter the number of the position you want to mark.\")\n",
    "    print(\"4. First to get 3 in a row (line/column/diagonal) wins!\")\n",
    "    print(\"5. If all spots are filled and no winner — it's a draw.\\n\")\n",
    "\n",
    "    print(\"👉 Board Positions:\")\n",
    "    print_board([str(i + 1) for i in range(9)])\n",
    "\n",
    "    while True:\n",
    "        print_board(board)\n",
    "        try:\n",
    "            move = int(input(f\"Player {current_player}, enter position (1-9): \")) - 1\n",
    "        except ValueError:\n",
    "            print(\"⚠️ Invalid input. Enter a number from 1 to 9.\")\n",
    "            continue\n",
    "\n",
    "        if move < 0 or move > 8:\n",
    "            print(\"⚠️ Position out of range. Choose between 1 and 9.\")\n",
    "            continue\n",
    "\n",
    "        if board[move] != \" \":\n",
    "            print(\"⚠️ That spot is already taken. Try a different one.\")\n",
    "            continue\n",
    "\n",
    "        board[move] = current_player\n",
    "\n",
    "        if check_win(board, current_player):\n",
    "            print_board(board)\n",
    "            print(f\"🎉 Player {current_player} wins!\")\n",
    "            break\n",
    "\n",
    "        if is_draw(board):\n",
    "            print_board(board)\n",
    "            print(\"🤝 It's a draw!\")\n",
    "            break\n",
    "\n",
    "        # Switch player\n",
    "        current_player = \"O\" if current_player == \"X\" else \"X\"\n",
    "\n",
    "if __name__ == \"__main__\":\n",
    "    tic_tac_toe()"
   ]
  },
  {
   "cell_type": "code",
   "execution_count": null,
   "id": "7f2c87b2-fa83-4ad8-92fc-1653c1e0c321",
   "metadata": {},
   "outputs": [],
   "source": []
  }
 ],
 "metadata": {
  "kernelspec": {
   "display_name": "Python 3 (ipykernel)",
   "language": "python",
   "name": "python3"
  },
  "language_info": {
   "codemirror_mode": {
    "name": "ipython",
    "version": 3
   },
   "file_extension": ".py",
   "mimetype": "text/x-python",
   "name": "python",
   "nbconvert_exporter": "python",
   "pygments_lexer": "ipython3",
   "version": "3.12.7"
  }
 },
 "nbformat": 4,
 "nbformat_minor": 5
}
