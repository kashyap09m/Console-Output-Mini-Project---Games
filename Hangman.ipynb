{
 "cells": [
  {
   "cell_type": "code",
   "execution_count": 3,
   "id": "b1ce6928-3696-4390-9917-8a8d3d7a43b8",
   "metadata": {},
   "outputs": [
    {
     "name": "stdout",
     "output_type": "stream",
     "text": [
      "🎮 Welcome to Hangman!\n",
      "📝 Guess the word one letter at a time.\n",
      "❌ You have 6 chances before the hangman is completed.\n",
      "\n",
      "Word: _ _ _ _ _ _ _ _\n",
      "Guessed Letters: \n",
      "Tries Left: 6\n"
     ]
    },
    {
     "name": "stdin",
     "output_type": "stream",
     "text": [
      "Enter a letter:  e\n"
     ]
    },
    {
     "name": "stdout",
     "output_type": "stream",
     "text": [
      "✅ Good guess!\n",
      "\n",
      "Word: _ _ _ _ _ _ e _\n",
      "Guessed Letters: e\n",
      "Tries Left: 6\n"
     ]
    },
    {
     "name": "stdin",
     "output_type": "stream",
     "text": [
      "Enter a letter:  a\n"
     ]
    },
    {
     "name": "stdout",
     "output_type": "stream",
     "text": [
      "❌ Wrong guess!\n",
      "\n",
      "Word: _ _ _ _ _ _ e _\n",
      "Guessed Letters: a e\n",
      "Tries Left: 5\n"
     ]
    },
    {
     "name": "stdin",
     "output_type": "stream",
     "text": [
      "Enter a letter:  r\n"
     ]
    },
    {
     "name": "stdout",
     "output_type": "stream",
     "text": [
      "✅ Good guess!\n",
      "\n",
      "Word: _ _ _ _ _ _ e r\n",
      "Guessed Letters: a e r\n",
      "Tries Left: 5\n"
     ]
    },
    {
     "name": "stdin",
     "output_type": "stream",
     "text": [
      "Enter a letter:  u\n"
     ]
    },
    {
     "name": "stdout",
     "output_type": "stream",
     "text": [
      "✅ Good guess!\n",
      "\n",
      "Word: _ _ _ _ u _ e r\n",
      "Guessed Letters: a e r u\n",
      "Tries Left: 5\n"
     ]
    },
    {
     "name": "stdin",
     "output_type": "stream",
     "text": [
      "Enter a letter:  i\n"
     ]
    },
    {
     "name": "stdout",
     "output_type": "stream",
     "text": [
      "❌ Wrong guess!\n",
      "\n",
      "Word: _ _ _ _ u _ e r\n",
      "Guessed Letters: a e i r u\n",
      "Tries Left: 4\n"
     ]
    },
    {
     "name": "stdin",
     "output_type": "stream",
     "text": [
      "Enter a letter:  l\n"
     ]
    },
    {
     "name": "stdout",
     "output_type": "stream",
     "text": [
      "❌ Wrong guess!\n",
      "\n",
      "Word: _ _ _ _ u _ e r\n",
      "Guessed Letters: a e i l r u\n",
      "Tries Left: 3\n"
     ]
    },
    {
     "name": "stdin",
     "output_type": "stream",
     "text": [
      "Enter a letter:  d\n"
     ]
    },
    {
     "name": "stdout",
     "output_type": "stream",
     "text": [
      "❌ Wrong guess!\n",
      "\n",
      "Word: _ _ _ _ u _ e r\n",
      "Guessed Letters: a d e i l r u\n",
      "Tries Left: 2\n"
     ]
    },
    {
     "name": "stdin",
     "output_type": "stream",
     "text": [
      "Enter a letter:  c\n"
     ]
    },
    {
     "name": "stdout",
     "output_type": "stream",
     "text": [
      "✅ Good guess!\n",
      "\n",
      "Word: c _ _ _ u _ e r\n",
      "Guessed Letters: a c d e i l r u\n",
      "Tries Left: 2\n"
     ]
    },
    {
     "name": "stdin",
     "output_type": "stream",
     "text": [
      "Enter a letter:  m\n"
     ]
    },
    {
     "name": "stdout",
     "output_type": "stream",
     "text": [
      "✅ Good guess!\n",
      "\n",
      "Word: c _ m _ u _ e r\n",
      "Guessed Letters: a c d e i l m r u\n",
      "Tries Left: 2\n"
     ]
    },
    {
     "name": "stdin",
     "output_type": "stream",
     "text": [
      "Enter a letter:  b\n"
     ]
    },
    {
     "name": "stdout",
     "output_type": "stream",
     "text": [
      "❌ Wrong guess!\n",
      "\n",
      "Word: c _ m _ u _ e r\n",
      "Guessed Letters: a b c d e i l m r u\n",
      "Tries Left: 1\n"
     ]
    },
    {
     "name": "stdin",
     "output_type": "stream",
     "text": [
      "Enter a letter:  g\n"
     ]
    },
    {
     "name": "stdout",
     "output_type": "stream",
     "text": [
      "❌ Wrong guess!\n",
      "\n",
      "💀 Game Over! The word was: computer\n"
     ]
    }
   ],
   "source": [
    "import random\n",
    "\n",
    "def get_random_word():\n",
    "    words = [\"elephant\", \"banana\", \"giraffe\", \"tiger\", \"computer\", \"python\", \"flower\", \"notebook\", \"keyboard\"]\n",
    "    return random.choice(words)\n",
    "\n",
    "def display_word(word, guessed_letters):\n",
    "    return \" \".join([letter if letter in guessed_letters else \"_\" for letter in word])\n",
    "\n",
    "def hangman():\n",
    "    word_to_guess = get_random_word()\n",
    "    guessed_letters = set()\n",
    "    tries_left = 6\n",
    "\n",
    "    print(\"🎮 Welcome to Hangman!\")\n",
    "    print(\"📝 Guess the word one letter at a time.\")\n",
    "    print(\"❌ You have 6 chances before the hangman is completed.\\n\")\n",
    "\n",
    "    while tries_left > 0:\n",
    "        print(f\"Word: {display_word(word_to_guess, guessed_letters)}\")\n",
    "        print(f\"Guessed Letters: {' '.join(sorted(guessed_letters))}\")\n",
    "        print(f\"Tries Left: {tries_left}\")\n",
    "\n",
    "        guess = input(\"Enter a letter: \").lower()\n",
    "\n",
    "        if len(guess) != 1 or not guess.isalpha():\n",
    "            print(\"⚠️ Please enter a single alphabetic letter.\\n\")\n",
    "            continue\n",
    "\n",
    "        if guess in guessed_letters:\n",
    "            print(\"⚠️ You've already guessed that letter.\\n\")\n",
    "            continue\n",
    "\n",
    "        guessed_letters.add(guess)\n",
    "\n",
    "        if guess in word_to_guess:\n",
    "            print(\"✅ Good guess!\\n\")\n",
    "            if all(letter in guessed_letters for letter in word_to_guess):\n",
    "                print(f\"🎉 Congratulations! You guessed the word: {word_to_guess}\")\n",
    "                break\n",
    "        else:\n",
    "            tries_left -= 1\n",
    "            print(\"❌ Wrong guess!\\n\")\n",
    "\n",
    "    if tries_left == 0:\n",
    "        print(f\"💀 Game Over! The word was: {word_to_guess}\")\n",
    "\n",
    "if __name__ == \"__main__\":\n",
    "    hangman()\n"
   ]
  },
  {
   "cell_type": "code",
   "execution_count": null,
   "id": "b95bc654-4e50-48a6-9633-3157c5b9c71e",
   "metadata": {},
   "outputs": [],
   "source": []
  }
 ],
 "metadata": {
  "kernelspec": {
   "display_name": "Python 3 (ipykernel)",
   "language": "python",
   "name": "python3"
  },
  "language_info": {
   "codemirror_mode": {
    "name": "ipython",
    "version": 3
   },
   "file_extension": ".py",
   "mimetype": "text/x-python",
   "name": "python",
   "nbconvert_exporter": "python",
   "pygments_lexer": "ipython3",
   "version": "3.12.7"
  }
 },
 "nbformat": 4,
 "nbformat_minor": 5
}
