{
 "cells": [
  {
   "cell_type": "code",
   "execution_count": null,
   "id": "3ef7a4ce-2783-421b-bb44-19192dae9eff",
   "metadata": {},
   "outputs": [
    {
     "name": "stdout",
     "output_type": "stream",
     "text": [
      "🎮 Welcome to Battleship!\n",
      "💥 Try to sink the enemy ship hidden on a 5x5 ocean grid.\n",
      "🎯 You have 5 turns.\n",
      "\n",
      "🌊 🌊 🌊 🌊 🌊\n",
      "🌊 🌊 🌊 🌊 🌊\n",
      "🌊 🌊 🌊 🌊 🌊\n",
      "🌊 🌊 🌊 🌊 🌊\n",
      "🌊 🌊 🌊 🌊 🌊\n",
      "\n",
      "🔁 Turn 1 of 5\n"
     ]
    },
    {
     "name": "stdin",
     "output_type": "stream",
     "text": [
      "📍 Guess Row (0-4):  2\n",
      "📍 Guess Col (0-4):  5\n"
     ]
    },
    {
     "name": "stdout",
     "output_type": "stream",
     "text": [
      "⚠️ That's not even in the ocean!\n",
      "\n",
      "------------------------------\n",
      "🌊 🌊 🌊 🌊 🌊\n",
      "🌊 🌊 🌊 🌊 🌊\n",
      "🌊 🌊 🌊 🌊 🌊\n",
      "🌊 🌊 🌊 🌊 🌊\n",
      "🌊 🌊 🌊 🌊 🌊\n",
      "\n",
      "🔁 Turn 2 of 5\n"
     ]
    }
   ],
   "source": [
    "import random\n",
    "\n",
    "# Board size\n",
    "BOARD_SIZE = 5\n",
    "MAX_TURNS = 5\n",
    "\n",
    "# Create an empty board\n",
    "board = [[\"🌊\" for _ in range(BOARD_SIZE)] for _ in range(BOARD_SIZE)]\n",
    "\n",
    "# Random ship location\n",
    "ship_row = random.randint(0, BOARD_SIZE - 1)\n",
    "ship_col = random.randint(0, BOARD_SIZE - 1)\n",
    "\n",
    "def print_board():\n",
    "    for row in board:\n",
    "        print(\" \".join(row))\n",
    "\n",
    "print(\"🎮 Welcome to Battleship!\")\n",
    "print(\"💥 Try to sink the enemy ship hidden on a 5x5 ocean grid.\")\n",
    "print(\"🎯 You have\", MAX_TURNS, \"turns.\\n\")\n",
    "\n",
    "# Main game loop\n",
    "for turn in range(MAX_TURNS):\n",
    "    print_board()\n",
    "    print(f\"\\n🔁 Turn {turn + 1} of {MAX_TURNS}\")\n",
    "    \n",
    "    try:\n",
    "        guess_row = int(input(\"📍 Guess Row (0-4): \"))\n",
    "        guess_col = int(input(\"📍 Guess Col (0-4): \"))\n",
    "    except ValueError:\n",
    "        print(\"⚠️ Invalid input. Please enter numbers only.\\n\")\n",
    "        continue\n",
    "\n",
    "    if guess_row == ship_row and guess_col == ship_col:\n",
    "        print(\"🎉 BOOM! You sunk the battleship!\")\n",
    "        board[guess_row][guess_col] = \"💥\"\n",
    "        print_board()\n",
    "        break\n",
    "    elif 0 <= guess_row < BOARD_SIZE and 0 <= guess_col < BOARD_SIZE:\n",
    "        if board[guess_row][guess_col] == \"❌\":\n",
    "            print(\"🛑 You already guessed that!\")\n",
    "        else:\n",
    "            print(\"💦 Miss!\")\n",
    "            board[guess_row][guess_col] = \"❌\"\n",
    "    else:\n",
    "        print(\"⚠️ That's not even in the ocean!\")\n",
    "\n",
    "    print(\"\\n\" + \"-\" * 30)\n",
    "\n",
    "else:\n",
    "    print(\"💀 Game Over. You ran out of turns!\")\n",
    "    print(f\"📍 The ship was at ({ship_row}, {ship_col})\")\n",
    "    board[ship_row][ship_col] = \"🚢\"\n",
    "    print_board()\n"
   ]
  },
  {
   "cell_type": "code",
   "execution_count": null,
   "id": "8283ed6d-7ae2-4c3d-a07f-f6d61acf0b72",
   "metadata": {},
   "outputs": [],
   "source": []
  }
 ],
 "metadata": {
  "kernelspec": {
   "display_name": "Python 3 (ipykernel)",
   "language": "python",
   "name": "python3"
  },
  "language_info": {
   "codemirror_mode": {
    "name": "ipython",
    "version": 3
   },
   "file_extension": ".py",
   "mimetype": "text/x-python",
   "name": "python",
   "nbconvert_exporter": "python",
   "pygments_lexer": "ipython3",
   "version": "3.12.7"
  }
 },
 "nbformat": 4,
 "nbformat_minor": 5
}
