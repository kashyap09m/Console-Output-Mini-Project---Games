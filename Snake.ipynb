{
 "cells": [
  {
   "cell_type": "code",
   "execution_count": 1,
   "id": "ec506480-ebf6-499b-8365-f59a313f7cfa",
   "metadata": {},
   "outputs": [
    {
     "name": "stdout",
     "output_type": "stream",
     "text": [
      "\u001b)0\u001b7\u001b[?47h\u001b[1;24r\u001b[m\u001b[4l\u001b[?1l\u001b>"
     ]
    },
    {
     "ename": "error",
     "evalue": "nocbreak() returned ERR",
     "output_type": "error",
     "traceback": [
      "\u001b[0;31m---------------------------------------------------------------------------\u001b[0m",
      "\u001b[0;31merror\u001b[0m                                     Traceback (most recent call last)",
      "File \u001b[0;32m~/anaconda3/lib/python3.12/curses/__init__.py:78\u001b[0m, in \u001b[0;36mwrapper\u001b[0;34m(func, *args, **kwds)\u001b[0m\n\u001b[1;32m     77\u001b[0m noecho()\n\u001b[0;32m---> 78\u001b[0m cbreak()\n\u001b[1;32m     80\u001b[0m \u001b[38;5;66;03m# In keypad mode, escape sequences for special keys\u001b[39;00m\n\u001b[1;32m     81\u001b[0m \u001b[38;5;66;03m# (like the cursor keys) will be interpreted and\u001b[39;00m\n\u001b[1;32m     82\u001b[0m \u001b[38;5;66;03m# a special value like curses.KEY_LEFT will be returned\u001b[39;00m\n",
      "\u001b[0;31merror\u001b[0m: cbreak() returned ERR",
      "\nDuring handling of the above exception, another exception occurred:\n",
      "\u001b[0;31merror\u001b[0m                                     Traceback (most recent call last)",
      "Cell \u001b[0;32mIn[1], line 71\u001b[0m\n\u001b[1;32m     67\u001b[0m             stdscr\u001b[38;5;241m.\u001b[39maddch(tail[\u001b[38;5;241m0\u001b[39m], tail[\u001b[38;5;241m1\u001b[39m], \u001b[38;5;124m'\u001b[39m\u001b[38;5;124m \u001b[39m\u001b[38;5;124m'\u001b[39m)\n\u001b[1;32m     69\u001b[0m         stdscr\u001b[38;5;241m.\u001b[39maddch(snake[\u001b[38;5;241m0\u001b[39m][\u001b[38;5;241m0\u001b[39m], snake[\u001b[38;5;241m0\u001b[39m][\u001b[38;5;241m1\u001b[39m], \u001b[38;5;124m'\u001b[39m\u001b[38;5;124m🟩\u001b[39m\u001b[38;5;124m'\u001b[39m)\n\u001b[0;32m---> 71\u001b[0m curses\u001b[38;5;241m.\u001b[39mwrapper(main)\n",
      "File \u001b[0;32m~/anaconda3/lib/python3.12/curses/__init__.py:100\u001b[0m, in \u001b[0;36mwrapper\u001b[0;34m(func, *args, **kwds)\u001b[0m\n\u001b[1;32m     98\u001b[0m stdscr\u001b[38;5;241m.\u001b[39mkeypad(\u001b[38;5;241m0\u001b[39m)\n\u001b[1;32m     99\u001b[0m echo()\n\u001b[0;32m--> 100\u001b[0m nocbreak()\n\u001b[1;32m    101\u001b[0m endwin()\n",
      "\u001b[0;31merror\u001b[0m: nocbreak() returned ERR"
     ]
    }
   ],
   "source": [
    "import random\n",
    "import curses\n",
    "\n",
    "def main(stdscr):\n",
    "    curses.curs_set(0)  # Hide cursor\n",
    "    stdscr.nodelay(1)   # Non-blocking input\n",
    "    stdscr.timeout(100) # Refresh every 100ms\n",
    "\n",
    "    # Initial position of snake and food\n",
    "    sh, sw = stdscr.getmaxyx()\n",
    "    snk_x = sw // 4\n",
    "    snk_y = sh // 2\n",
    "    snake = [\n",
    "        [snk_y, snk_x],\n",
    "        [snk_y, snk_x - 1],\n",
    "        [snk_y, snk_x - 2]\n",
    "    ]\n",
    "\n",
    "    food = [random.randint(1, sh - 2), random.randint(1, sw - 2)]\n",
    "    stdscr.addch(food[0], food[1], '🍎')\n",
    "\n",
    "    key = curses.KEY_RIGHT\n",
    "\n",
    "    while True:\n",
    "        next_key = stdscr.getch()\n",
    "        key = key if next_key == -1 else next_key\n",
    "\n",
    "        # New head\n",
    "        head = [snake[0][0], snake[0][1]]\n",
    "\n",
    "        if key == curses.KEY_DOWN:\n",
    "            head[0] += 1\n",
    "        elif key == curses.KEY_UP:\n",
    "            head[0] -= 1\n",
    "        elif key == curses.KEY_LEFT:\n",
    "            head[1] -= 1\n",
    "        elif key == curses.KEY_RIGHT:\n",
    "            head[1] += 1\n",
    "\n",
    "        snake.insert(0, head)\n",
    "\n",
    "        # Game over conditions\n",
    "        if (\n",
    "            head[0] in [0, sh] or\n",
    "            head[1] in [0, sw] or\n",
    "            head in snake[1:]\n",
    "        ):\n",
    "            msg = \"💀 Game Over!\"\n",
    "            stdscr.clear()\n",
    "            stdscr.addstr(sh//2, sw//2 - len(msg)//2, msg)\n",
    "            stdscr.refresh()\n",
    "            curses.napms(2000)\n",
    "            break\n",
    "\n",
    "        if head == food:\n",
    "            food = None\n",
    "            while food is None:\n",
    "                nf = [\n",
    "                    random.randint(1, sh - 2),\n",
    "                    random.randint(1, sw - 2)\n",
    "                ]\n",
    "                if nf not in snake:\n",
    "                    food = nf\n",
    "            stdscr.addch(food[0], food[1], '🍎')\n",
    "        else:\n",
    "            tail = snake.pop()\n",
    "            stdscr.addch(tail[0], tail[1], ' ')\n",
    "\n",
    "        stdscr.addch(snake[0][0], snake[0][1], '🟩')\n",
    "\n",
    "curses.wrapper(main)\n"
   ]
  },
  {
   "cell_type": "code",
   "execution_count": null,
   "id": "6805785d-34fa-4d0d-a369-4a883823a442",
   "metadata": {},
   "outputs": [],
   "source": []
  }
 ],
 "metadata": {
  "kernelspec": {
   "display_name": "Python 3 (ipykernel)",
   "language": "python",
   "name": "python3"
  },
  "language_info": {
   "codemirror_mode": {
    "name": "ipython",
    "version": 3
   },
   "file_extension": ".py",
   "mimetype": "text/x-python",
   "name": "python",
   "nbconvert_exporter": "python",
   "pygments_lexer": "ipython3",
   "version": "3.12.7"
  }
 },
 "nbformat": 4,
 "nbformat_minor": 5
}
