{
 "cells": [
  {
   "cell_type": "code",
   "execution_count": null,
   "id": "f4fa7a21-7dd4-4500-a2df-159854514b63",
   "metadata": {},
   "outputs": [],
   "source": []
  }
 ],
 "metadata": {
  "kernelspec": {
   "display_name": "",
   "name": ""
  },
  "language_info": {
   "name": ""
  }
 },
 "nbformat": 4,
 "nbformat_minor": 5
}
